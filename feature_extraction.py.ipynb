{
 "cells": [
  {
   "cell_type": "code",
   "execution_count": 1,
   "metadata": {},
   "outputs": [],
   "source": [
    "import pandas as pd"
   ]
  },
  {
   "cell_type": "code",
   "execution_count": 2,
   "metadata": {},
   "outputs": [],
   "source": [
    "df = pd.read_csv('data.csv')"
   ]
  },
  {
   "cell_type": "code",
   "execution_count": 3,
   "metadata": {},
   "outputs": [],
   "source": [
    "def parse_budget_data_numeric(x):\n",
    "    return float(x.replace(\",\", \"\"))"
   ]
  },
  {
   "cell_type": "code",
   "execution_count": 4,
   "metadata": {},
   "outputs": [],
   "source": [
    "numeric_cols = ['ProductionBudget', 'DomesticGross', 'WorldwideGross']\n",
    "for numeric_col in numeric_cols:\n",
    "    df[numeric_col] = df[numeric_col].apply(parse_budget_data_numeric)"
   ]
  },
  {
   "cell_type": "code",
   "execution_count": 5,
   "metadata": {},
   "outputs": [],
   "source": [
    "def calculate_profit(x):\n",
    "    x['Profit'] = x['WorldwideGross'] - x['ProductionBudget']\n",
    "    x['IsProfitable'] = x['Profit'] > 0\n",
    "    return x\n",
    "\n",
    "df = df.apply(calculate_profit, axis=1)"
   ]
  },
  {
   "cell_type": "code",
   "execution_count": null,
   "metadata": {
    "scrolled": true
   },
   "outputs": [],
   "source": [
    "def contains_word_extractor(x):\n",
    "    contains_word_features = {}\n",
    "    try:\n",
    "        with open('movie_scripts/' + x['fuzzy_picked_file']) as f:\n",
    "            text = f.read()\n",
    "            words = text.split()\n",
    "            for word in words:\n",
    "                contains_word_features['contains_word_' + word + '.html'] = True\n",
    "        x['contains_word_features'] = contains_word_features\n",
    "    except FileNotFoundError:\n",
    "        print(\"German, I cannot find this file: \", x['fuzzy_picked_file'])\n",
    "    return x\n",
    "\n",
    "df = df.apply(contains_word_extractor, axis=1)"
   ]
  },
  {
   "cell_type": "code",
   "execution_count": 7,
   "metadata": {},
   "outputs": [
    {
     "name": "stderr",
     "output_type": "stream",
     "text": [
      "/Users/varuntandon/Github/CS221FinalProject/221venv/lib/python3.8/site-packages/fuzzywuzzy/fuzz.py:11: UserWarning: Using slow pure-python SequenceMatcher. Install python-Levenshtein to remove this warning\n",
      "  warnings.warn('Using slow pure-python SequenceMatcher. Install python-Levenshtein to remove this warning')\n"
     ]
    }
   ],
   "source": [
    "from fuzzywuzzy import fuzz\n",
    "\n",
    "from os import listdir\n",
    "from os.path import isfile, join\n",
    "onlyfiles = [f for f in listdir(\"movie_scripts\") if isfile(join(\"movie_scripts\", f))]\n",
    "\n",
    "def retrieve_fuzzy_file(x):\n",
    "    best_fuzzy = 0\n",
    "    best_fuzzy_file = None\n",
    "    for file in onlyfiles:\n",
    "        ratio = fuzz.ratio(x['MovieTitle'], file)\n",
    "        if ratio > best_fuzzy:\n",
    "            best_fuzzy = ratio\n",
    "            best_fuzzy_file = file\n",
    "\n",
    "    x['fuzzy_picked_file'] = best_fuzzy_file\n",
    "    return x\n",
    "\n",
    "df = df.apply(retrieve_fuzzy_file, axis=1)"
   ]
  },
  {
   "cell_type": "code",
   "execution_count": null,
   "metadata": {},
   "outputs": [],
   "source": []
  }
 ],
 "metadata": {
  "kernelspec": {
   "display_name": "221venv",
   "language": "python",
   "name": "221venv"
  },
  "language_info": {
   "codemirror_mode": {
    "name": "ipython",
    "version": 3
   },
   "file_extension": ".py",
   "mimetype": "text/x-python",
   "name": "python",
   "nbconvert_exporter": "python",
   "pygments_lexer": "ipython3",
   "version": "3.8.0"
  }
 },
 "nbformat": 4,
 "nbformat_minor": 2
}
