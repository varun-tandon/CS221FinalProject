{
 "cells": [
  {
   "cell_type": "code",
   "execution_count": 0,
   "metadata": {
    "colab": {
     "base_uri": "https://localhost:8080/",
     "height": 124
    },
    "colab_type": "code",
    "executionInfo": {
     "elapsed": 18130,
     "status": "ok",
     "timestamp": 1574898163602,
     "user": {
      "displayName": "Varun Tandon",
      "photoUrl": "",
      "userId": "15608253166189512770"
     },
     "user_tz": 480
    },
    "id": "VyqbX2Kv2Pg7",
    "outputId": "d1741541-a868-46d3-dd2e-1233de11cda2"
   },
   "outputs": [
    {
     "name": "stdout",
     "output_type": "stream",
     "text": [
      "Go to this URL in a browser: https://accounts.google.com/o/oauth2/auth?client_id=947318989803-6bn6qk8qdgf4n4g3pfee6491hc0brc4i.apps.googleusercontent.com&redirect_uri=urn%3aietf%3awg%3aoauth%3a2.0%3aoob&response_type=code&scope=email%20https%3a%2f%2fwww.googleapis.com%2fauth%2fdocs.test%20https%3a%2f%2fwww.googleapis.com%2fauth%2fdrive%20https%3a%2f%2fwww.googleapis.com%2fauth%2fdrive.photos.readonly%20https%3a%2f%2fwww.googleapis.com%2fauth%2fpeopleapi.readonly\n",
      "\n",
      "Enter your authorization code:\n",
      "··········\n",
      "Mounted at /movie_scripts\n"
     ]
    }
   ],
   "source": [
    "from google.colab import drive\n",
    "drive.mount('/movie_scripts')"
   ]
  },
  {
   "cell_type": "code",
   "execution_count": 0,
   "metadata": {
    "colab": {
     "base_uri": "https://localhost:8080/",
     "height": 104
    },
    "colab_type": "code",
    "executionInfo": {
     "elapsed": 1100,
     "status": "ok",
     "timestamp": 1574708854716,
     "user": {
      "displayName": "Varun Tandon",
      "photoUrl": "",
      "userId": "15608253166189512770"
     },
     "user_tz": 480
    },
    "id": "QvYzbpTl-cUO",
    "outputId": "15b5af83-98fe-4da6-8c40-171bccddd0bd"
   },
   "outputs": [
    {
     "name": "stdout",
     "output_type": "stream",
     "text": [
      "failed on  shrek-the-third.html\n",
      "failed on  despicable-me-2.html\n",
      "failed on  affliction.html\n",
      "failed on  wild-hogs.html\n",
      "failed on  mrs.-brown.html\n"
     ]
    }
   ],
   "source": [
    "from os import listdir\n",
    "from os.path import isfile, join\n",
    "mypath = '/movie_scripts/My Drive/movie_scripts'\n",
    "onlyfiles = [f for f in listdir(mypath) if isfile(join(mypath, f))]\n",
    "import random\n",
    "test_set = random.choices(onlyfiles, k=len(onlyfiles) // 10)\n",
    "import shutil\n",
    "for test_cand in test_set:\n",
    "  try:\n",
    "    shutil.move(mypath + \"/\" + test_cand, mypath + \"/test/\" + test_cand)\n",
    "  except:\n",
    "    print(\"failed on \", test_cand)"
   ]
  },
  {
   "cell_type": "code",
   "execution_count": 0,
   "metadata": {
    "colab": {},
    "colab_type": "code",
    "id": "EY6X7JQFP9jJ"
   },
   "outputs": [],
   "source": [
    "mypath = '/movie_scripts/My Drive/movie_scripts'"
   ]
  },
  {
   "cell_type": "code",
   "execution_count": 0,
   "metadata": {
    "colab": {},
    "colab_type": "code",
    "id": "d69tNs4y9zSW"
   },
   "outputs": [],
   "source": [
    "onlyfiles = [f for f in listdir(mypath) if isfile(join(mypath, f))]\n",
    "test_set = set(test_set)\n",
    "for file in onlyfiles:\n",
    "    if file in test_set:\n",
    "        shutil.move(mypath + \"/\" + file, mypath + \"/delete/\" + file)\n",
    "    else:\n",
    "        shutil.move(mypath + \"/\" + file, mypath + \"/train/\" + file)"
   ]
  },
  {
   "cell_type": "code",
   "execution_count": 0,
   "metadata": {
    "colab": {
     "base_uri": "https://localhost:8080/",
     "height": 52
    },
    "colab_type": "code",
    "executionInfo": {
     "elapsed": 12772,
     "status": "ok",
     "timestamp": 1574718077878,
     "user": {
      "displayName": "Varun Tandon",
      "photoUrl": "",
      "userId": "15608253166189512770"
     },
     "user_tz": 480
    },
    "id": "a9I5KZwWFxe8",
    "outputId": "bb3c45a4-3a14-48e6-8105-43a251af0607"
   },
   "outputs": [
    {
     "name": "stdout",
     "output_type": "stream",
     "text": [
      "290 files are classified as 0\n",
      "299 files are classified as 0\n"
     ]
    }
   ],
   "source": [
    "import pandas as pd\n",
    "df = pd.read_csv(mypath + '/data_parsed_contains_word_features.csv')\n",
    "trainfiles = [f for f in listdir(mypath + \"/train\") if isfile(join(mypath + \"/train\", f))]\n",
    "testfiles = [f for f in listdir(mypath + \"/test\") if isfile(join(mypath + \"/train\", f))]\n",
    "\n",
    "\n",
    "i = 0\n",
    "for trainfile in trainfiles:\n",
    "    row = df.loc[df['ScriptLink'] == trainfile].to_dict()\n",
    "    if row['IsProfitable']:\n",
    "        shutil.move(mypath + \"/train/\" + trainfile, mypath + \"/train/1/\" + trainfile)\n",
    "    else:\n",
    "        shutil.move(mypath + \"/train/\" + trainfile, mypath + \"/train/0/\" + trainfile)\n",
    "        i += 1\n",
    "\n",
    "print(i, \"files are classified as 0\")\n",
    "\n",
    "for testfile in testfiles:\n",
    "    row = df.loc[df['ScriptLink'] == testfile].to_dict()\n",
    "    if row['IsProfitable']:\n",
    "        shutil.move(mypath + \"/test/\" + testfile, mypath + \"/test/1/\" + testfile)\n",
    "    else:\n",
    "        shutil.move(mypath + \"/test/\" + testfile, mypath + \"/test/0/\" + testfile)\n",
    "        i += 1\n",
    "\n",
    "print(i, \"files are classified as 0\")"
   ]
  },
  {
   "cell_type": "code",
   "execution_count": 0,
   "metadata": {
    "colab": {
     "base_uri": "https://localhost:8080/",
     "height": 930
    },
    "colab_type": "code",
    "executionInfo": {
     "elapsed": 406,
     "status": "ok",
     "timestamp": 1574717714421,
     "user": {
      "displayName": "Varun Tandon",
      "photoUrl": "",
      "userId": "15608253166189512770"
     },
     "user_tz": 480
    },
    "id": "l1iqvYvHGeJM",
    "outputId": "f596995c-068e-4cf4-e268-79701a6d8095"
   },
   "outputs": [
    {
     "data": {
      "text/html": [
       "<div>\n",
       "<style scoped>\n",
       "    .dataframe tbody tr th:only-of-type {\n",
       "        vertical-align: middle;\n",
       "    }\n",
       "\n",
       "    .dataframe tbody tr th {\n",
       "        vertical-align: top;\n",
       "    }\n",
       "\n",
       "    .dataframe thead th {\n",
       "        text-align: right;\n",
       "    }\n",
       "</style>\n",
       "<table border=\"1\" class=\"dataframe\">\n",
       "  <thead>\n",
       "    <tr style=\"text-align: right;\">\n",
       "      <th></th>\n",
       "      <th>Unnamed: 0</th>\n",
       "      <th>MovieTitle</th>\n",
       "      <th>ScriptLink</th>\n",
       "      <th>ProductionBudget</th>\n",
       "      <th>DomesticGross</th>\n",
       "      <th>WorldwideGross</th>\n",
       "      <th>Profit</th>\n",
       "      <th>IsProfitable</th>\n",
       "      <th>contains_word_features</th>\n",
       "      <th>num_words</th>\n",
       "      <th>num_chars</th>\n",
       "      <th>num_words_features</th>\n",
       "      <th>num_chars_features</th>\n",
       "    </tr>\n",
       "  </thead>\n",
       "  <tbody>\n",
       "    <tr>\n",
       "      <th>0</th>\n",
       "      <td>0</td>\n",
       "      <td>avatar</td>\n",
       "      <td>avatar.html</td>\n",
       "      <td>425000000.0</td>\n",
       "      <td>760507625.0</td>\n",
       "      <td>2.789705e+09</td>\n",
       "      <td>2.364705e+09</td>\n",
       "      <td>True</td>\n",
       "      <td>{\"contains_word_&lt;pre&gt;\": true, \"contains_word_&lt;...</td>\n",
       "      <td>41567</td>\n",
       "      <td>363542</td>\n",
       "      <td>{\"has_0_num_words\": 1, \"has_100_num_words\": 1,...</td>\n",
       "      <td>{\"has_0_num_chars\": 1, \"has_1000_num_chars\": 1...</td>\n",
       "    </tr>\n",
       "    <tr>\n",
       "      <th>1</th>\n",
       "      <td>1</td>\n",
       "      <td>star wars ep. vii: the force awakens</td>\n",
       "      <td>star-wars:-the-force-awakens.html</td>\n",
       "      <td>306000000.0</td>\n",
       "      <td>936662225.0</td>\n",
       "      <td>2.053311e+09</td>\n",
       "      <td>1.747311e+09</td>\n",
       "      <td>True</td>\n",
       "      <td>{\"contains_word_&lt;pre&gt;&lt;/pre&gt;\": true}</td>\n",
       "      <td>1</td>\n",
       "      <td>11</td>\n",
       "      <td>{\"has_0_num_words\": 1}</td>\n",
       "      <td>{\"has_0_num_chars\": 1}</td>\n",
       "    </tr>\n",
       "    <tr>\n",
       "      <th>2</th>\n",
       "      <td>2</td>\n",
       "      <td>the dark knight rises</td>\n",
       "      <td>dark-knight-rises,-the.html</td>\n",
       "      <td>275000000.0</td>\n",
       "      <td>448139099.0</td>\n",
       "      <td>1.084439e+09</td>\n",
       "      <td>8.094391e+08</td>\n",
       "      <td>True</td>\n",
       "      <td>{\"contains_word_&lt;pre&gt;\": true, \"contains_word_&lt;...</td>\n",
       "      <td>33411</td>\n",
       "      <td>302619</td>\n",
       "      <td>{\"has_0_num_words\": 1, \"has_100_num_words\": 1,...</td>\n",
       "      <td>{\"has_0_num_chars\": 1, \"has_1000_num_chars\": 1...</td>\n",
       "    </tr>\n",
       "    <tr>\n",
       "      <th>3</th>\n",
       "      <td>3</td>\n",
       "      <td>harry potter and the half-blood prince</td>\n",
       "      <td>harry-potter-and-the-half-blood-prince.html</td>\n",
       "      <td>250000000.0</td>\n",
       "      <td>302089278.0</td>\n",
       "      <td>9.352138e+08</td>\n",
       "      <td>6.852138e+08</td>\n",
       "      <td>True</td>\n",
       "      <td>{}</td>\n",
       "      <td>0</td>\n",
       "      <td>0</td>\n",
       "      <td>{}</td>\n",
       "      <td>{}</td>\n",
       "    </tr>\n",
       "    <tr>\n",
       "      <th>4</th>\n",
       "      <td>4</td>\n",
       "      <td>the avengers</td>\n",
       "      <td>avengers,-the.html</td>\n",
       "      <td>225000000.0</td>\n",
       "      <td>623279547.0</td>\n",
       "      <td>1.517936e+09</td>\n",
       "      <td>1.292936e+09</td>\n",
       "      <td>True</td>\n",
       "      <td>{\"contains_word_&lt;pre&gt;\": true, \"contains_word_&lt;...</td>\n",
       "      <td>26158</td>\n",
       "      <td>159957</td>\n",
       "      <td>{\"has_0_num_words\": 1, \"has_100_num_words\": 1,...</td>\n",
       "      <td>{\"has_0_num_chars\": 1, \"has_1000_num_chars\": 1...</td>\n",
       "    </tr>\n",
       "    <tr>\n",
       "      <th>...</th>\n",
       "      <td>...</td>\n",
       "      <td>...</td>\n",
       "      <td>...</td>\n",
       "      <td>...</td>\n",
       "      <td>...</td>\n",
       "      <td>...</td>\n",
       "      <td>...</td>\n",
       "      <td>...</td>\n",
       "      <td>...</td>\n",
       "      <td>...</td>\n",
       "      <td>...</td>\n",
       "      <td>...</td>\n",
       "      <td>...</td>\n",
       "    </tr>\n",
       "    <tr>\n",
       "      <th>1287</th>\n",
       "      <td>1287</td>\n",
       "      <td>raymond did it</td>\n",
       "      <td>ronin.html</td>\n",
       "      <td>40000.0</td>\n",
       "      <td>3632.0</td>\n",
       "      <td>3.632000e+03</td>\n",
       "      <td>-3.636800e+04</td>\n",
       "      <td>False</td>\n",
       "      <td>{\"contains_word_&lt;pre&gt;\": true, \"contains_word_&lt;...</td>\n",
       "      <td>29922</td>\n",
       "      <td>214710</td>\n",
       "      <td>{\"has_0_num_words\": 1, \"has_100_num_words\": 1,...</td>\n",
       "      <td>{\"has_0_num_chars\": 1, \"has_1000_num_chars\": 1...</td>\n",
       "    </tr>\n",
       "    <tr>\n",
       "      <th>1288</th>\n",
       "      <td>1288</td>\n",
       "      <td>the legend of god's gun</td>\n",
       "      <td>logan's-run.html</td>\n",
       "      <td>30000.0</td>\n",
       "      <td>243768.0</td>\n",
       "      <td>2.437680e+05</td>\n",
       "      <td>2.137680e+05</td>\n",
       "      <td>True</td>\n",
       "      <td>{\"contains_word_&lt;pre&gt;\": true, \"contains_word_&lt;...</td>\n",
       "      <td>25699</td>\n",
       "      <td>160118</td>\n",
       "      <td>{\"has_0_num_words\": 1, \"has_100_num_words\": 1,...</td>\n",
       "      <td>{\"has_0_num_chars\": 1, \"has_1000_num_chars\": 1...</td>\n",
       "    </tr>\n",
       "    <tr>\n",
       "      <th>1289</th>\n",
       "      <td>1289</td>\n",
       "      <td>clerks</td>\n",
       "      <td>clerks.html</td>\n",
       "      <td>27000.0</td>\n",
       "      <td>3073428.0</td>\n",
       "      <td>3.894240e+06</td>\n",
       "      <td>3.867240e+06</td>\n",
       "      <td>True</td>\n",
       "      <td>{\"contains_word_&lt;pre&gt;\": true, \"contains_word_&lt;...</td>\n",
       "      <td>27060</td>\n",
       "      <td>161444</td>\n",
       "      <td>{\"has_0_num_words\": 1, \"has_100_num_words\": 1,...</td>\n",
       "      <td>{\"has_0_num_chars\": 1, \"has_1000_num_chars\": 1...</td>\n",
       "    </tr>\n",
       "    <tr>\n",
       "      <th>1290</th>\n",
       "      <td>1290</td>\n",
       "      <td>the terrorist</td>\n",
       "      <td>eastern-promises.html</td>\n",
       "      <td>25000.0</td>\n",
       "      <td>195043.0</td>\n",
       "      <td>1.950430e+05</td>\n",
       "      <td>1.700430e+05</td>\n",
       "      <td>True</td>\n",
       "      <td>{\"contains_word_&lt;pre&gt;\": true, \"contains_word_&lt;...</td>\n",
       "      <td>23615</td>\n",
       "      <td>205830</td>\n",
       "      <td>{\"has_0_num_words\": 1, \"has_100_num_words\": 1,...</td>\n",
       "      <td>{\"has_0_num_chars\": 1, \"has_1000_num_chars\": 1...</td>\n",
       "    </tr>\n",
       "    <tr>\n",
       "      <th>1291</th>\n",
       "      <td>1291</td>\n",
       "      <td>el mariachi</td>\n",
       "      <td>el-mariachi.html</td>\n",
       "      <td>7000.0</td>\n",
       "      <td>2040920.0</td>\n",
       "      <td>2.041928e+06</td>\n",
       "      <td>2.034928e+06</td>\n",
       "      <td>True</td>\n",
       "      <td>{}</td>\n",
       "      <td>0</td>\n",
       "      <td>0</td>\n",
       "      <td>{}</td>\n",
       "      <td>{}</td>\n",
       "    </tr>\n",
       "  </tbody>\n",
       "</table>\n",
       "<p>1292 rows × 13 columns</p>\n",
       "</div>"
      ],
      "text/plain": [
       "      Unnamed: 0  ...                                 num_chars_features\n",
       "0              0  ...  {\"has_0_num_chars\": 1, \"has_1000_num_chars\": 1...\n",
       "1              1  ...                             {\"has_0_num_chars\": 1}\n",
       "2              2  ...  {\"has_0_num_chars\": 1, \"has_1000_num_chars\": 1...\n",
       "3              3  ...                                                 {}\n",
       "4              4  ...  {\"has_0_num_chars\": 1, \"has_1000_num_chars\": 1...\n",
       "...          ...  ...                                                ...\n",
       "1287        1287  ...  {\"has_0_num_chars\": 1, \"has_1000_num_chars\": 1...\n",
       "1288        1288  ...  {\"has_0_num_chars\": 1, \"has_1000_num_chars\": 1...\n",
       "1289        1289  ...  {\"has_0_num_chars\": 1, \"has_1000_num_chars\": 1...\n",
       "1290        1290  ...  {\"has_0_num_chars\": 1, \"has_1000_num_chars\": 1...\n",
       "1291        1291  ...                                                 {}\n",
       "\n",
       "[1292 rows x 13 columns]"
      ]
     },
     "execution_count": 27,
     "metadata": {
      "tags": []
     },
     "output_type": "execute_result"
    }
   ],
   "source": [
    "df"
   ]
  },
  {
   "cell_type": "code",
   "execution_count": 0,
   "metadata": {
    "colab": {
     "base_uri": "https://localhost:8080/",
     "height": 98
    },
    "colab_type": "code",
    "executionInfo": {
     "elapsed": 3937,
     "status": "ok",
     "timestamp": 1574898210316,
     "user": {
      "displayName": "Varun Tandon",
      "photoUrl": "",
      "userId": "15608253166189512770"
     },
     "user_tz": 480
    },
    "id": "CCZD_PmV6qPl",
    "outputId": "2673004f-afc0-423c-dc53-40a40cc7dfe6"
   },
   "outputs": [
    {
     "data": {
      "text/html": [
       "<p style=\"color: red;\">\n",
       "The default version of TensorFlow in Colab will soon switch to TensorFlow 2.x.<br>\n",
       "We recommend you <a href=\"https://www.tensorflow.org/guide/migrate\" target=\"_blank\">upgrade</a> now \n",
       "or ensure your notebook will continue to use TensorFlow 1.x via the <code>%tensorflow_version 1.x</code> magic:\n",
       "<a href=\"https://colab.research.google.com/notebooks/tensorflow_version.ipynb\" target=\"_blank\">more info</a>.</p>\n"
      ],
      "text/plain": [
       "<IPython.core.display.HTML object>"
      ]
     },
     "metadata": {
      "tags": []
     },
     "output_type": "display_data"
    },
    {
     "name": "stderr",
     "output_type": "stream",
     "text": [
      "Using TensorFlow backend.\n"
     ]
    },
    {
     "name": "stdout",
     "output_type": "stream",
     "text": [
      "using Keras version: 2.2.4\n"
     ]
    }
   ],
   "source": [
    "import ktrain\n",
    "from ktrain import text"
   ]
  },
  {
   "cell_type": "code",
   "execution_count": 0,
   "metadata": {
    "colab": {
     "base_uri": "https://localhost:8080/",
     "height": 278
    },
    "colab_type": "code",
    "executionInfo": {
     "elapsed": 707345,
     "status": "ok",
     "timestamp": 1574898940468,
     "user": {
      "displayName": "Varun Tandon",
      "photoUrl": "",
      "userId": "15608253166189512770"
     },
     "user_tz": 480
    },
    "id": "NrohdULL64eb",
    "outputId": "1bd2d2a9-651f-4fdf-d130-1ef6a5544f98"
   },
   "outputs": [
    {
     "name": "stdout",
     "output_type": "stream",
     "text": [
      "detected encoding: utf-8\n",
      "downloading pretrained BERT model (uncased_L-12_H-768_A-12.zip)...\n",
      "[██████████████████████████████████████████████████]\n",
      "extracting pretrained BERT model...\n",
      "done.\n",
      "\n",
      "cleanup downloaded zip...\n",
      "done.\n",
      "\n",
      "preprocessing train...\n",
      "language: en\n"
     ]
    },
    {
     "data": {
      "text/html": [
       "done."
      ],
      "text/plain": [
       "<IPython.core.display.HTML object>"
      ]
     },
     "metadata": {
      "tags": []
     },
     "output_type": "display_data"
    },
    {
     "name": "stdout",
     "output_type": "stream",
     "text": [
      "preprocessing test...\n",
      "language: en\n"
     ]
    },
    {
     "data": {
      "text/html": [
       "done."
      ],
      "text/plain": [
       "<IPython.core.display.HTML object>"
      ]
     },
     "metadata": {
      "tags": []
     },
     "output_type": "display_data"
    }
   ],
   "source": [
    "(x_train, y_train), (x_test, y_test), preproc = text.texts_from_folder(mypath, maxlen=512, preprocess_mode='bert', classes=['1', '0'])"
   ]
  },
  {
   "cell_type": "code",
   "execution_count": 0,
   "metadata": {
    "colab": {
     "base_uri": "https://localhost:8080/",
     "height": 69
    },
    "colab_type": "code",
    "executionInfo": {
     "elapsed": 734476,
     "status": "ok",
     "timestamp": 1574898971391,
     "user": {
      "displayName": "Varun Tandon",
      "photoUrl": "",
      "userId": "15608253166189512770"
     },
     "user_tz": 480
    },
    "id": "rO-waOx3hX3L",
    "outputId": "8ab41aec-7850-441b-a920-3b62ed86d047"
   },
   "outputs": [
    {
     "name": "stdout",
     "output_type": "stream",
     "text": [
      "Is Multi-Label? False\n",
      "maxlen is 512\n",
      "done.\n"
     ]
    }
   ],
   "source": [
    "learner = ktrain.get_learner(text.text_classifier('bert', (x_train, y_train), preproc=preproc), train_data=(x_train, y_train), val_data=(x_test, y_test), batch_size=6)"
   ]
  },
  {
   "cell_type": "code",
   "execution_count": 0,
   "metadata": {
    "colab": {
     "base_uri": "https://localhost:8080/",
     "height": 139
    },
    "colab_type": "code",
    "id": "HcZjj7XAmoUk",
    "outputId": "7d4e122e-1ff8-430a-b799-b7430ab45b5e"
   },
   "outputs": [
    {
     "name": "stdout",
     "output_type": "stream",
     "text": [
      "simulating training for different learning rates... this may take a few moments...\n",
      "Epoch 1/1024\n",
      "1099/1099 [==============================] - 8357s 8s/step - loss: 0.7417 - acc: 0.5487\n",
      "Epoch 2/1024\n",
      "1099/1099 [==============================] - 8351s 8s/step - loss: 0.6351 - acc: 0.6934\n",
      "Epoch 3/1024\n",
      " 972/1099 [=========================>....] - ETA: 15:58 - loss: 0.6095 - acc: 0.7078"
     ]
    }
   ],
   "source": [
    "learner.lr_find()"
   ]
  },
  {
   "cell_type": "code",
   "execution_count": 0,
   "metadata": {
    "colab": {
     "base_uri": "https://localhost:8080/",
     "height": 156
    },
    "colab_type": "code",
    "id": "22D6Y1NDnWbL",
    "outputId": "413109af-fbf4-4940-8741-993b2bf1a63c"
   },
   "outputs": [
    {
     "name": "stdout",
     "output_type": "stream",
     "text": [
      "\n",
      "\n",
      "begin training using onecycle policy with max lr of 2e-05...\n",
      "Train on 1099 samples, validate on 51 samples\n",
      "Epoch 1/3\n",
      "1099/1099 [==============================] - 7968s 7s/step - loss: 0.6091 - acc: 0.7106 - val_loss: 0.6367 - val_acc: 0.7059\n",
      "Epoch 2/3\n",
      " 978/1099 [=========================>....] - ETA: 14:22 - loss: 0.5992 - acc: 0.7157"
     ]
    }
   ],
   "source": [
    "learner.fit_onecycle(2e-5, 3)"
   ]
  },
  {
   "cell_type": "code",
   "execution_count": 0,
   "metadata": {
    "colab": {},
    "colab_type": "code",
    "id": "G4wuY8TOU3Sp"
   },
   "outputs": [],
   "source": [
    "import os\n",
    "os.environ[\"CUDA_DEVICE_ORDER\"]=\"PCI_BUS_ID\";\n",
    "os.environ[\"CUDA_VISIBLE_DEVICES\"]=\"0\";"
   ]
  },
  {
   "cell_type": "code",
   "execution_count": 0,
   "metadata": {
    "colab": {
     "base_uri": "https://localhost:8080/",
     "height": 1000
    },
    "colab_type": "code",
    "executionInfo": {
     "elapsed": 26353,
     "status": "ok",
     "timestamp": 1574898206364,
     "user": {
      "displayName": "Varun Tandon",
      "photoUrl": "",
      "userId": "15608253166189512770"
     },
     "user_tz": 480
    },
    "id": "CXPJM-lHhZOQ",
    "outputId": "98a912e7-df73-4e42-cb17-b2cccd1543c2"
   },
   "outputs": [
    {
     "name": "stdout",
     "output_type": "stream",
     "text": [
      "Collecting ktrain\n",
      "\u001b[?25l  Downloading https://files.pythonhosted.org/packages/e1/dc/240c8fe1f52d265a577bd15822f8644087a59079b75f8fe15a601314003d/ktrain-0.6.1.tar.gz (173kB)\n",
      "\u001b[K     |████████████████████████████████| 174kB 4.9MB/s \n",
      "\u001b[?25hCollecting keras==2.2.4\n",
      "\u001b[?25l  Downloading https://files.pythonhosted.org/packages/5e/10/aa32dad071ce52b5502266b5c659451cfd6ffcbf14e6c8c4f16c0ff5aaab/Keras-2.2.4-py2.py3-none-any.whl (312kB)\n",
      "\u001b[K     |████████████████████████████████| 317kB 43.3MB/s \n",
      "\u001b[?25hRequirement already satisfied: scikit-learn>=0.20.0 in /usr/local/lib/python3.6/dist-packages (from ktrain) (0.21.3)\n",
      "Requirement already satisfied: matplotlib>=3.0.0 in /usr/local/lib/python3.6/dist-packages (from ktrain) (3.1.1)\n",
      "Requirement already satisfied: pandas>=0.24.2 in /usr/local/lib/python3.6/dist-packages (from ktrain) (0.25.3)\n",
      "Requirement already satisfied: fastprogress>=0.1.21 in /usr/local/lib/python3.6/dist-packages (from ktrain) (0.1.21)\n",
      "Collecting keras_bert\n",
      "  Downloading https://files.pythonhosted.org/packages/df/fe/bf46de1ef9d1395cd735d8df5402f5d837ef82cfd348a252ad8f32feeaef/keras-bert-0.80.0.tar.gz\n",
      "Requirement already satisfied: requests in /usr/local/lib/python3.6/dist-packages (from ktrain) (2.21.0)\n",
      "Collecting eli5>=0.10.0\n",
      "\u001b[?25l  Downloading https://files.pythonhosted.org/packages/97/2f/c85c7d8f8548e460829971785347e14e45fa5c6617da374711dec8cb38cc/eli5-0.10.1-py2.py3-none-any.whl (105kB)\n",
      "\u001b[K     |████████████████████████████████| 112kB 42.1MB/s \n",
      "\u001b[?25hCollecting seqeval\n",
      "  Downloading https://files.pythonhosted.org/packages/34/91/068aca8d60ce56dd9ba4506850e876aba5e66a6f2f29aa223224b50df0de/seqeval-0.0.12.tar.gz\n",
      "Requirement already satisfied: joblib in /usr/local/lib/python3.6/dist-packages (from ktrain) (0.14.0)\n",
      "Collecting langdetect\n",
      "\u001b[?25l  Downloading https://files.pythonhosted.org/packages/59/59/4bc44158a767a6d66de18c4136c8aa90491d56cc951c10b74dd1e13213c9/langdetect-1.0.7.zip (998kB)\n",
      "\u001b[K     |████████████████████████████████| 1.0MB 38.4MB/s \n",
      "\u001b[?25hRequirement already satisfied: jieba in /usr/local/lib/python3.6/dist-packages (from ktrain) (0.39)\n",
      "Collecting cchardet\n",
      "\u001b[?25l  Downloading https://files.pythonhosted.org/packages/fa/4e/847feebfc3e71c773b23ee06c74687b8c50a5a6d6aaff452a0a4f4eb9a32/cchardet-2.1.5-cp36-cp36m-manylinux1_x86_64.whl (241kB)\n",
      "\u001b[K     |████████████████████████████████| 245kB 40.6MB/s \n",
      "\u001b[?25hCollecting networkx==2.3\n",
      "\u001b[?25l  Downloading https://files.pythonhosted.org/packages/85/08/f20aef11d4c343b557e5de6b9548761811eb16e438cee3d32b1c66c8566b/networkx-2.3.zip (1.7MB)\n",
      "\u001b[K     |████████████████████████████████| 1.8MB 36.9MB/s \n",
      "\u001b[?25hRequirement already satisfied: bokeh in /usr/local/lib/python3.6/dist-packages (from ktrain) (1.0.4)\n",
      "Requirement already satisfied: numpy>=1.9.1 in /usr/local/lib/python3.6/dist-packages (from keras==2.2.4->ktrain) (1.17.4)\n",
      "Requirement already satisfied: pyyaml in /usr/local/lib/python3.6/dist-packages (from keras==2.2.4->ktrain) (3.13)\n",
      "Requirement already satisfied: keras-preprocessing>=1.0.5 in /usr/local/lib/python3.6/dist-packages (from keras==2.2.4->ktrain) (1.1.0)\n",
      "Requirement already satisfied: h5py in /usr/local/lib/python3.6/dist-packages (from keras==2.2.4->ktrain) (2.8.0)\n",
      "Requirement already satisfied: scipy>=0.14 in /usr/local/lib/python3.6/dist-packages (from keras==2.2.4->ktrain) (1.3.2)\n",
      "Requirement already satisfied: keras-applications>=1.0.6 in /usr/local/lib/python3.6/dist-packages (from keras==2.2.4->ktrain) (1.0.8)\n",
      "Requirement already satisfied: six>=1.9.0 in /usr/local/lib/python3.6/dist-packages (from keras==2.2.4->ktrain) (1.12.0)\n",
      "Requirement already satisfied: kiwisolver>=1.0.1 in /usr/local/lib/python3.6/dist-packages (from matplotlib>=3.0.0->ktrain) (1.1.0)\n",
      "Requirement already satisfied: python-dateutil>=2.1 in /usr/local/lib/python3.6/dist-packages (from matplotlib>=3.0.0->ktrain) (2.6.1)\n",
      "Requirement already satisfied: pyparsing!=2.0.4,!=2.1.2,!=2.1.6,>=2.0.1 in /usr/local/lib/python3.6/dist-packages (from matplotlib>=3.0.0->ktrain) (2.4.5)\n",
      "Requirement already satisfied: cycler>=0.10 in /usr/local/lib/python3.6/dist-packages (from matplotlib>=3.0.0->ktrain) (0.10.0)\n",
      "Requirement already satisfied: pytz>=2017.2 in /usr/local/lib/python3.6/dist-packages (from pandas>=0.24.2->ktrain) (2018.9)\n",
      "Collecting keras-transformer>=0.30.0\n",
      "  Downloading https://files.pythonhosted.org/packages/0a/57/496b1eab888171b0801a0a44d3245a7874b8d1cc04c1fbfdbb5e3327fc7a/keras-transformer-0.31.0.tar.gz\n",
      "Requirement already satisfied: chardet<3.1.0,>=3.0.2 in /usr/local/lib/python3.6/dist-packages (from requests->ktrain) (3.0.4)\n",
      "Requirement already satisfied: certifi>=2017.4.17 in /usr/local/lib/python3.6/dist-packages (from requests->ktrain) (2019.9.11)\n",
      "Requirement already satisfied: urllib3<1.25,>=1.21.1 in /usr/local/lib/python3.6/dist-packages (from requests->ktrain) (1.24.3)\n",
      "Requirement already satisfied: idna<2.9,>=2.5 in /usr/local/lib/python3.6/dist-packages (from requests->ktrain) (2.8)\n",
      "Requirement already satisfied: jinja2 in /usr/local/lib/python3.6/dist-packages (from eli5>=0.10.0->ktrain) (2.10.3)\n",
      "Requirement already satisfied: graphviz in /usr/local/lib/python3.6/dist-packages (from eli5>=0.10.0->ktrain) (0.10.1)\n",
      "Requirement already satisfied: attrs>16.0.0 in /usr/local/lib/python3.6/dist-packages (from eli5>=0.10.0->ktrain) (19.3.0)\n",
      "Requirement already satisfied: tabulate>=0.7.7 in /usr/local/lib/python3.6/dist-packages (from eli5>=0.10.0->ktrain) (0.8.5)\n",
      "Requirement already satisfied: decorator>=4.3.0 in /usr/local/lib/python3.6/dist-packages (from networkx==2.3->ktrain) (4.4.1)\n",
      "Requirement already satisfied: pillow>=4.0 in /usr/local/lib/python3.6/dist-packages (from bokeh->ktrain) (4.3.0)\n",
      "Requirement already satisfied: packaging>=16.8 in /usr/local/lib/python3.6/dist-packages (from bokeh->ktrain) (19.2)\n",
      "Requirement already satisfied: tornado>=4.3 in /usr/local/lib/python3.6/dist-packages (from bokeh->ktrain) (4.5.3)\n",
      "Requirement already satisfied: setuptools in /usr/local/lib/python3.6/dist-packages (from kiwisolver>=1.0.1->matplotlib>=3.0.0->ktrain) (41.6.0)\n",
      "Collecting keras-pos-embd>=0.10.0\n",
      "  Downloading https://files.pythonhosted.org/packages/09/70/b63ed8fc660da2bb6ae29b9895401c628da5740c048c190b5d7107cadd02/keras-pos-embd-0.11.0.tar.gz\n",
      "Collecting keras-multi-head>=0.22.0\n",
      "  Downloading https://files.pythonhosted.org/packages/40/3e/d0a64bb2ac5217928effe4507c26bbd19b86145d16a1948bc2d4f4c6338a/keras-multi-head-0.22.0.tar.gz\n",
      "Collecting keras-layer-normalization>=0.12.0\n",
      "  Downloading https://files.pythonhosted.org/packages/a4/0e/d1078df0494bac9ce1a67954e5380b6e7569668f0f3b50a9531c62c1fc4a/keras-layer-normalization-0.14.0.tar.gz\n",
      "Collecting keras-position-wise-feed-forward>=0.5.0\n",
      "  Downloading https://files.pythonhosted.org/packages/e3/59/f0faa1037c033059e7e9e7758e6c23b4d1c0772cd48de14c4b6fd4033ad5/keras-position-wise-feed-forward-0.6.0.tar.gz\n",
      "Collecting keras-embed-sim>=0.7.0\n",
      "  Downloading https://files.pythonhosted.org/packages/bc/20/735fd53f6896e2af63af47e212601c1b8a7a80d00b6126c388c9d1233892/keras-embed-sim-0.7.0.tar.gz\n",
      "Requirement already satisfied: MarkupSafe>=0.23 in /usr/local/lib/python3.6/dist-packages (from jinja2->eli5>=0.10.0->ktrain) (1.1.1)\n",
      "Requirement already satisfied: olefile in /usr/local/lib/python3.6/dist-packages (from pillow>=4.0->bokeh->ktrain) (0.46)\n",
      "Collecting keras-self-attention==0.41.0\n",
      "  Downloading https://files.pythonhosted.org/packages/1b/1c/01599219bef7266fa43b3316e4f55bcb487734d3bafdc60ffd564f3cfe29/keras-self-attention-0.41.0.tar.gz\n",
      "Building wheels for collected packages: ktrain, keras-bert, seqeval, langdetect, networkx, keras-transformer, keras-pos-embd, keras-multi-head, keras-layer-normalization, keras-position-wise-feed-forward, keras-embed-sim, keras-self-attention\n",
      "  Building wheel for ktrain (setup.py) ... \u001b[?25l\u001b[?25hdone\n",
      "  Created wheel for ktrain: filename=ktrain-0.6.1-cp36-none-any.whl size=223667 sha256=c0b0980946766000d1bb8fd5623d0339f72f1676c1c1a4aff78ee8b6c58275af\n",
      "  Stored in directory: /root/.cache/pip/wheels/7b/d7/74/92a01d8592ca47c6a33ad7d9f56492a87d3d7a30ae9c186e47\n",
      "  Building wheel for keras-bert (setup.py) ... \u001b[?25l\u001b[?25hdone\n",
      "  Created wheel for keras-bert: filename=keras_bert-0.80.0-cp36-none-any.whl size=37923 sha256=38dc29ab352a90a66dac0ed6fa9cdca278f04a02d9b8ca2da80bc645b9e90dd6\n",
      "  Stored in directory: /root/.cache/pip/wheels/63/dc/87/3260cb91f3aa32c0f85c5375429a30c8fd988bbb48f5ee21b0\n",
      "  Building wheel for seqeval (setup.py) ... \u001b[?25l\u001b[?25hdone\n",
      "  Created wheel for seqeval: filename=seqeval-0.0.12-cp36-none-any.whl size=7424 sha256=7a65d5ee693ce30f0dc0ed6b921fd35e4f3500a737c46f9907fea4fb0bfe6045\n",
      "  Stored in directory: /root/.cache/pip/wheels/4f/32/0a/df3b340a82583566975377d65e724895b3fad101a3fb729f68\n",
      "  Building wheel for langdetect (setup.py) ... \u001b[?25l\u001b[?25hdone\n",
      "  Created wheel for langdetect: filename=langdetect-1.0.7-cp36-none-any.whl size=993460 sha256=e3e00b430ab45122579bdc9e2d365de5fa16a3f030a1e46e637fef359b40b260\n",
      "  Stored in directory: /root/.cache/pip/wheels/ec/0c/a9/1647275e7ef5014e7b83ff30105180e332867d65e7617ddafe\n",
      "  Building wheel for networkx (setup.py) ... \u001b[?25l\u001b[?25hdone\n",
      "  Created wheel for networkx: filename=networkx-2.3-py2.py3-none-any.whl size=1556408 sha256=257ca88a165feed0eefbde4c24878c11a4a43b28526dddb21baa00283dc7967c\n",
      "  Stored in directory: /root/.cache/pip/wheels/de/63/64/3699be2a9d0ccdb37c7f16329acf3863fd76eda58c39c737af\n",
      "  Building wheel for keras-transformer (setup.py) ... \u001b[?25l\u001b[?25hdone\n",
      "  Created wheel for keras-transformer: filename=keras_transformer-0.31.0-cp36-none-any.whl size=13385 sha256=03ef4498e259fed1d2f63e1db1779ace86afe1597aba5f09809ef78cd6eebd27\n",
      "  Stored in directory: /root/.cache/pip/wheels/a3/c5/9a/5a5130240be614a7a6fa786765d7692ae97f82601e2161bb56\n",
      "  Building wheel for keras-pos-embd (setup.py) ... \u001b[?25l\u001b[?25hdone\n",
      "  Created wheel for keras-pos-embd: filename=keras_pos_embd-0.11.0-cp36-none-any.whl size=7553 sha256=ac019416d3a241a68abe738eef50821fa37f612cb06f66c1bd396893df5869d6\n",
      "  Stored in directory: /root/.cache/pip/wheels/5b/a1/a0/ce6b1d49ba1a9a76f592e70cf297b05c96bc9f418146761032\n",
      "  Building wheel for keras-multi-head (setup.py) ... \u001b[?25l\u001b[?25hdone\n",
      "  Created wheel for keras-multi-head: filename=keras_multi_head-0.22.0-cp36-none-any.whl size=15371 sha256=6cd458d1ab4a5a218e80a06c66dc66aaa19b4f9d07dc66aeecd1a76f7f8afa17\n",
      "  Stored in directory: /root/.cache/pip/wheels/bb/df/3f/81b36f41b66e6a9cd69224c70a737de2bb6b2f7feb3272c25e\n",
      "  Building wheel for keras-layer-normalization (setup.py) ... \u001b[?25l\u001b[?25hdone\n",
      "  Created wheel for keras-layer-normalization: filename=keras_layer_normalization-0.14.0-cp36-none-any.whl size=5268 sha256=9b1371f2d6842763a27d8410f0f1ef382b061f5924a4c174809bcc500f0a9a35\n",
      "  Stored in directory: /root/.cache/pip/wheels/54/80/22/a638a7d406fd155e507aa33d703e3fa2612b9eb7bb4f4fe667\n",
      "  Building wheel for keras-position-wise-feed-forward (setup.py) ... \u001b[?25l\u001b[?25hdone\n",
      "  Created wheel for keras-position-wise-feed-forward: filename=keras_position_wise_feed_forward-0.6.0-cp36-none-any.whl size=5624 sha256=8614555c2013c9df8da5347989f739c084e0e4d9bffa9754ac72800bc0ef88ed\n",
      "  Stored in directory: /root/.cache/pip/wheels/39/e2/e2/3514fef126a00574b13bc0b9e23891800158df3a3c19c96e3b\n",
      "  Building wheel for keras-embed-sim (setup.py) ... \u001b[?25l\u001b[?25hdone\n",
      "  Created wheel for keras-embed-sim: filename=keras_embed_sim-0.7.0-cp36-none-any.whl size=4676 sha256=fc337953361b3428136bed8413f629de0f49c44856206b73379486f016b26241\n",
      "  Stored in directory: /root/.cache/pip/wheels/d1/bc/b1/b0c45cee4ca2e6c86586b0218ffafe7f0703c6d07fdf049866\n",
      "  Building wheel for keras-self-attention (setup.py) ... \u001b[?25l\u001b[?25hdone\n",
      "  Created wheel for keras-self-attention: filename=keras_self_attention-0.41.0-cp36-none-any.whl size=17290 sha256=3d4b3a8c7de6050736b35200e5f68ef886867bc28b369b7f6b3079245897fefe\n",
      "  Stored in directory: /root/.cache/pip/wheels/cc/dc/17/84258b27a04cd38ac91998abe148203720ca696186635db694\n",
      "Successfully built ktrain keras-bert seqeval langdetect networkx keras-transformer keras-pos-embd keras-multi-head keras-layer-normalization keras-position-wise-feed-forward keras-embed-sim keras-self-attention\n",
      "\u001b[31mERROR: albumentations 0.1.12 has requirement imgaug<0.2.7,>=0.2.5, but you'll have imgaug 0.2.9 which is incompatible.\u001b[0m\n",
      "Installing collected packages: keras, keras-pos-embd, keras-self-attention, keras-multi-head, keras-layer-normalization, keras-position-wise-feed-forward, keras-embed-sim, keras-transformer, keras-bert, eli5, seqeval, langdetect, cchardet, networkx, ktrain\n",
      "  Found existing installation: Keras 2.2.5\n",
      "    Uninstalling Keras-2.2.5:\n",
      "      Successfully uninstalled Keras-2.2.5\n",
      "  Found existing installation: networkx 2.4\n",
      "    Uninstalling networkx-2.4:\n",
      "      Successfully uninstalled networkx-2.4\n",
      "Successfully installed cchardet-2.1.5 eli5-0.10.1 keras-2.2.4 keras-bert-0.80.0 keras-embed-sim-0.7.0 keras-layer-normalization-0.14.0 keras-multi-head-0.22.0 keras-pos-embd-0.11.0 keras-position-wise-feed-forward-0.6.0 keras-self-attention-0.41.0 keras-transformer-0.31.0 ktrain-0.6.1 langdetect-1.0.7 networkx-2.3 seqeval-0.0.12\n"
     ]
    }
   ],
   "source": [
    "!pip install ktrain"
   ]
  },
  {
   "cell_type": "code",
   "execution_count": 0,
   "metadata": {
    "colab": {},
    "colab_type": "code",
    "id": "0V_f24hWhgC6"
   },
   "outputs": [],
   "source": []
  }
 ],
 "metadata": {
  "colab": {
   "collapsed_sections": [],
   "name": "Untitled0.ipynb",
   "provenance": []
  },
  "kernelspec": {
   "display_name": "Python 3",
   "language": "python",
   "name": "python3"
  },
  "language_info": {
   "codemirror_mode": {
    "name": "ipython",
    "version": 3
   },
   "file_extension": ".py",
   "mimetype": "text/x-python",
   "name": "python",
   "nbconvert_exporter": "python",
   "pygments_lexer": "ipython3",
   "version": "3.7.5"
  }
 },
 "nbformat": 4,
 "nbformat_minor": 1
}
